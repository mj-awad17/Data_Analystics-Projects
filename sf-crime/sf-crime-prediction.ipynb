{
 "cells": [
  {
   "cell_type": "markdown",
   "id": "95778cdc",
   "metadata": {},
   "source": [
    "# **San Francisco Crime Project**\n",
    "\n",
    "- **Author:** Muhammad Jawad [@mjawad17]()\n",
    "- **Description:** Data analysis, exploration, visualization, and data mining on crime in SF\n",
    "- **Original dataset:** [SF Gov Crime dataset](https://www.kaggle.com/competitions/sf-crime/data)\n",
    "- **Kaggle dataset:** [Kaggle SF Crime](https://www.kaggle.com/competitions/sf-crime/overview)"
   ]
  },
  {
   "cell_type": "markdown",
   "id": "15892a05",
   "metadata": {},
   "source": [
    "<div style=\"border: 2px solid #4CAF50; border-radius: 10px; padding: 20px; background-color: #f9f9f9; font-family: Arial, sans-serif; color: #333;\">\n",
    "    <h2 style=\"color: #4CAF50;\">Author Overview</h2>\n",
    "    <!-- Round image centered -->\n",
    "    <img src=\"https://avatars.githubusercontent.com/u/77524488?s=400&u=5ee60100c5daf1eb876be2bc80aaa0e9e85969c3&v=4\" alt=\"Author Image\" style=\"border-radius: 12%; width: 200px; height: 200px; margin-bottom: 20px; border: 2px solid green; display: block; margin-left: auto; margin-right: auto;\">\n",
    "    <p>I am <strong>Muhammad Jawad</strong>, a passionate data analyst dedicated to leveraging data to drive meaningful insights and support decision-making. With a strong foundation in computer science, I continuously seek to enhance my skills in analytical thinking and data-driven solutions. 📊</p>\n",
    "    <h3 style=\"color: #4CAF50;\">What Do I Know?</h3>\n",
    "    <p>I excel at extracting valuable insights from data using Python, SQL, and data visualization tools like Power BI and Tableau. My experience includes analyzing insurance and medical data, as well as performing exploratory data analysis to uncover trends and patterns. I'm committed to improving my statistical analysis and reporting abilities to solve complex problems effectively. 📚</p>\n",
    "    <h3 style=\"color: #4CAF50;\">What Am I Doing Right Now?</h3>\n",
    "    <p>Currently, I am focused on expanding my knowledge in data science, particularly in machine learning and advanced analytics. I am eager to apply my theoretical knowledge to real-world projects that challenge me and contribute to organizational success. 🎯</p>\n",
    "    <h3 style=\"color: #4CAF50;\">My Goal:</h3>\n",
    "    <p>To utilize my data analysis and data science skills to create value for companies by supporting their growth objectives. I am enthusiastic about learning new concepts and sharing my experiences with others. If you’re interested in discussing projects, collaborating, or exchanging ideas, I would love to connect!</p>\n",
    "</div>"
   ]
  },
  {
   "cell_type": "markdown",
   "id": "31415403",
   "metadata": {},
   "source": [
    "# Table of Contents\n",
    "- Introduction\n",
    "    - SF Crime Dataset\n",
    "- Basic Preparation\n",
    "    - Import libraries\n",
    "    - Load data\n",
    "- Data Exploration/Analysis Extension\n",
    "- Data Preprocessing\n",
    "    - Data Imputation/Removal\n",
    "    - Feature Engineering\n",
    "    - Feature Encoding\n",
    "- Build Machine Learning Models\n",
    "    - Train different baseline models\n",
    "    - Analyze results\n",
    "- Model Selection\n",
    "- Hyperparameter tuning\n",
    "- Train Model with optimal hyperparameters\n",
    "- Feature Selection\n",
    "    - Feature Importance\n",
    "    - Feature Removal\n",
    "- Train Final Model\n",
    "- Model Evaluation\n",
    "- Summary\n",
    "<!-- - Kaggle Submission -->\n",
    "- Conclusion"
   ]
  },
  {
   "cell_type": "code",
   "execution_count": null,
   "id": "0b465f23",
   "metadata": {
    "vscode": {
     "languageId": "plaintext"
    }
   },
   "outputs": [],
   "source": []
  }
 ],
 "metadata": {
  "language_info": {
   "name": "python"
  }
 },
 "nbformat": 4,
 "nbformat_minor": 5
}
